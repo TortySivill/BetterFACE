{
 "cells": [
  {
   "cell_type": "code",
   "execution_count": null,
   "metadata": {
    "collapsed": true
   },
   "outputs": [],
   "source": [
    "import pandas as pd\n",
    "import numpy as np\n",
    "import matplotlib.pyplot as plt\n",
    "import pickle\n",
    "from baseface import BaseFACE\n",
    "from face import FACE\n",
    "from ourface import OurFACE\n",
    "from adult_dataset.adult_rules import basic_rules"
   ]
  },
  {
   "cell_type": "markdown",
   "source": [
    "# Toy dataset"
   ],
   "metadata": {
    "collapsed": false,
    "pycharm": {
     "name": "#%% md\n"
    }
   }
  },
  {
   "cell_type": "code",
   "execution_count": null,
   "outputs": [],
   "source": [
    "data = pd.read_csv('toy_dataset/data.csv')\n",
    "with open('toy_dataset/model.pkl', 'rb') as f:\n",
    "    clf = pickle.load(f)\n",
    "eg1 = data.iloc[0].values\n",
    "eg2 = np.array([-1, -1])"
   ],
   "metadata": {
    "collapsed": false,
    "pycharm": {
     "name": "#%%\n"
    }
   }
  },
  {
   "cell_type": "code",
   "execution_count": null,
   "outputs": [],
   "source": [
    "ce = BaseFACE(data, clf, dist_threshold=0.9, pred_threshold=0.99)\n",
    "path1, pred1 = ce.generate_counterfactual(eg1)\n",
    "path2, pred2 = ce.generate_counterfactual(eg2)\n",
    "fig, ax = plt.subplots(figsize=(10, 6))\n",
    "ax.scatter(data['x'], data['y'], c=clf.predict(data))\n",
    "ax.plot(path1['x'], path1['y'], 'green')\n",
    "ax.plot(path2['x'], path2['y'], 'green')"
   ],
   "metadata": {
    "collapsed": false,
    "pycharm": {
     "name": "#%%\n"
    }
   }
  },
  {
   "cell_type": "code",
   "execution_count": null,
   "outputs": [],
   "source": [
    "ce = FACE(data, clf, dist_threshold=0.9, pred_threshold=0.99, density_threshold=0.01)\n",
    "path1, pred1 = ce.generate_counterfactual(eg1)\n",
    "path2, pred2 = ce.generate_counterfactual(eg2)\n",
    "fig, ax = plt.subplots(figsize=(10, 6))\n",
    "ax.scatter(data['x'], data['y'], c=clf.predict(data))\n",
    "ax.plot(path1['x'], path1['y'], 'green')\n",
    "ax.plot(path2['x'], path2['y'], 'green')"
   ],
   "metadata": {
    "collapsed": false,
    "pycharm": {
     "name": "#%%\n"
    }
   }
  },
  {
   "cell_type": "code",
   "execution_count": null,
   "outputs": [],
   "source": [
    "ce.plot_path(path1.index)\n",
    "ce.plot_path(path2.index)"
   ],
   "metadata": {
    "collapsed": false,
    "pycharm": {
     "name": "#%%\n"
    }
   }
  },
  {
   "cell_type": "markdown",
   "source": [
    "# Adult dataset"
   ],
   "metadata": {
    "collapsed": false,
    "pycharm": {
     "name": "#%% md\n"
    }
   }
  },
  {
   "cell_type": "code",
   "execution_count": null,
   "outputs": [],
   "source": [
    "data = pd.read_csv('adult_dataset/adult_one_hot.csv', nrows=500)\n",
    "data = data[list(data)[:-1]]\n",
    "eg = data.iloc[0].values\n",
    "data.head()"
   ],
   "metadata": {
    "collapsed": false,
    "pycharm": {
     "name": "#%%\n"
    }
   }
  },
  {
   "cell_type": "code",
   "execution_count": null,
   "outputs": [],
   "source": [
    "with open('adult_dataset/clf_one_hot.pkl', 'rb') as f:\n",
    "    clf = pickle.load(f)"
   ],
   "metadata": {
    "collapsed": false,
    "pycharm": {
     "name": "#%%\n"
    }
   }
  },
  {
   "cell_type": "code",
   "execution_count": null,
   "outputs": [],
   "source": [
    "ce = BaseFACE(data, clf, dist_threshold=3, pred_threshold=0.6)\n",
    "path, pred = ce.generate_counterfactual(eg)\n",
    "path"
   ],
   "metadata": {
    "collapsed": false,
    "pycharm": {
     "name": "#%%\n"
    }
   }
  },
  {
   "cell_type": "code",
   "execution_count": null,
   "outputs": [],
   "source": [
    "pred"
   ],
   "metadata": {
    "collapsed": false,
    "pycharm": {
     "name": "#%%\n"
    }
   }
  },
  {
   "cell_type": "code",
   "execution_count": null,
   "outputs": [],
   "source": [
    "# errors due to gaussian kde using one-hot encoded dataset\n",
    "ce = FACE(data.drop_duplicates(), clf, dist_threshold=3, density_threshold=0.01, pred_threshold=0.6)\n",
    "path, pred = ce.generate_counterfactual(eg)"
   ],
   "metadata": {
    "collapsed": false,
    "pycharm": {
     "name": "#%%\n"
    }
   }
  },
  {
   "cell_type": "code",
   "execution_count": null,
   "outputs": [],
   "source": [
    "# permission threshold very slow and connected node function doesn't work for directed graphs\n",
    "ce = OurFACE(data, clf, basic_rules, dist_threshold=3, pred_threshold=0.6)\n",
    "path, pred = ce.generate_counterfactual(eg)"
   ],
   "metadata": {
    "collapsed": false,
    "pycharm": {
     "name": "#%%\n"
    }
   }
  },
  {
   "cell_type": "code",
   "execution_count": null,
   "outputs": [],
   "source": [],
   "metadata": {
    "collapsed": false,
    "pycharm": {
     "name": "#%%\n"
    }
   }
  }
 ],
 "metadata": {
  "kernelspec": {
   "display_name": "Python 3",
   "language": "python",
   "name": "python3"
  },
  "language_info": {
   "codemirror_mode": {
    "name": "ipython",
    "version": 2
   },
   "file_extension": ".py",
   "mimetype": "text/x-python",
   "name": "python",
   "nbconvert_exporter": "python",
   "pygments_lexer": "ipython2",
   "version": "2.7.6"
  }
 },
 "nbformat": 4,
 "nbformat_minor": 0
}