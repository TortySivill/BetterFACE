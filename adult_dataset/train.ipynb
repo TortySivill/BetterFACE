{
 "cells": [
  {
   "cell_type": "code",
   "execution_count": null,
   "metadata": {
    "collapsed": true
   },
   "outputs": [],
   "source": [
    "import pandas as pd\n",
    "from sklearn.linear_model import LogisticRegression\n",
    "import pickle"
   ]
  },
  {
   "cell_type": "code",
   "execution_count": null,
   "outputs": [],
   "source": [
    "one_hot = pd.read_csv('adult_one_hot.csv')\n",
    "one_hot.head()"
   ],
   "metadata": {
    "collapsed": false,
    "pycharm": {
     "name": "#%%\n"
    }
   }
  },
  {
   "cell_type": "code",
   "execution_count": null,
   "outputs": [],
   "source": [
    "x = one_hot[list(one_hot)[:-1]]\n",
    "y = one_hot[list(one_hot)[-1]]\n",
    "clf = LogisticRegression(max_iter=1e4).fit(x, y)\n",
    "with open('clf_one_hot.pkl', 'wb') as file:\n",
    "    pickle.dump(clf, file)\n",
    "clf.score(x, y)"
   ],
   "metadata": {
    "collapsed": false,
    "pycharm": {
     "name": "#%%\n"
    }
   }
  },
  {
   "cell_type": "code",
   "execution_count": null,
   "outputs": [],
   "source": [
    "x = one_hot[list(one_hot)[7:20]]\n",
    "y = one_hot[list(one_hot)[-1]]\n",
    "clf = LogisticRegression().fit(x, y)\n",
    "with open('clf_age_occupation1hot.pkl', 'wb') as file:\n",
    "    pickle.dump(clf, file)\n",
    "clf.score(x, y)"
   ],
   "metadata": {
    "collapsed": false,
    "pycharm": {
     "name": "#%%\n"
    }
   }
  },
  {
   "cell_type": "code",
   "execution_count": null,
   "outputs": [],
   "source": [
    "raw = pd.read_csv('adult_raw.csv')\n",
    "raw.head()"
   ],
   "metadata": {
    "collapsed": false,
    "pycharm": {
     "name": "#%%\n"
    }
   }
  },
  {
   "cell_type": "code",
   "execution_count": null,
   "outputs": [],
   "source": [
    "x = raw[list(raw)[:-1]]\n",
    "y = raw[list(raw)[-1]]\n",
    "clf = LogisticRegression().fit(x, y)\n",
    "with open('clf_raw.pkl', 'wb') as file:\n",
    "    pickle.dump(clf, file)\n",
    "clf.score(x, y)"
   ],
   "metadata": {
    "collapsed": false,
    "pycharm": {
     "name": "#%%\n"
    }
   }
  },
  {
   "cell_type": "code",
   "execution_count": null,
   "outputs": [],
   "source": [],
   "metadata": {
    "collapsed": false,
    "pycharm": {
     "name": "#%%\n"
    }
   }
  }
 ],
 "metadata": {
  "kernelspec": {
   "display_name": "Python 3",
   "language": "python",
   "name": "python3"
  },
  "language_info": {
   "codemirror_mode": {
    "name": "ipython",
    "version": 2
   },
   "file_extension": ".py",
   "mimetype": "text/x-python",
   "name": "python",
   "nbconvert_exporter": "python",
   "pygments_lexer": "ipython2",
   "version": "2.7.6"
  }
 },
 "nbformat": 4,
 "nbformat_minor": 0
}